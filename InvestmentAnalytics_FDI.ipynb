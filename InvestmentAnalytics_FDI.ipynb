{
 "cells": [
  {
   "cell_type": "markdown",
   "id": "36e08fad",
   "metadata": {},
   "source": [
    "### Importing the required Packages"
   ]
  },
  {
   "cell_type": "code",
   "execution_count": 68,
   "id": "c3456fb4",
   "metadata": {},
   "outputs": [],
   "source": [
    "import numpy as np\n",
    "import pandas as pd\n",
    "import seaborn as sns\n",
    "import matplotlib.pyplot as plt\n",
    "from scipy.stats.stats import pearsonr\n",
    "import scipy.stats as stats"
   ]
  },
  {
   "cell_type": "markdown",
   "id": "e597f1db",
   "metadata": {},
   "source": [
    "### Loading the required files"
   ]
  },
  {
   "cell_type": "code",
   "execution_count": 2,
   "id": "6878a943",
   "metadata": {},
   "outputs": [],
   "source": [
    "df = pd.read_csv('D:/Full_SatckDataAnalytics_Notes/FSDA_Internship_Project/FDI.csv', header = 0, index_col = 0)"
   ]
  },
  {
   "cell_type": "code",
   "execution_count": 3,
   "id": "1267e06d",
   "metadata": {
    "scrolled": true
   },
   "outputs": [
    {
     "data": {
      "text/html": [
       "<div>\n",
       "<style scoped>\n",
       "    .dataframe tbody tr th:only-of-type {\n",
       "        vertical-align: middle;\n",
       "    }\n",
       "\n",
       "    .dataframe tbody tr th {\n",
       "        vertical-align: top;\n",
       "    }\n",
       "\n",
       "    .dataframe thead th {\n",
       "        text-align: right;\n",
       "    }\n",
       "</style>\n",
       "<table border=\"1\" class=\"dataframe\">\n",
       "  <thead>\n",
       "    <tr style=\"text-align: right;\">\n",
       "      <th></th>\n",
       "      <th>2000-01</th>\n",
       "      <th>2001-02</th>\n",
       "      <th>2002-03</th>\n",
       "      <th>2003-04</th>\n",
       "      <th>2004-05</th>\n",
       "      <th>2005-06</th>\n",
       "      <th>2006-07</th>\n",
       "      <th>2007-08</th>\n",
       "      <th>2008-09</th>\n",
       "      <th>2009-10</th>\n",
       "      <th>2010-11</th>\n",
       "      <th>2011-12</th>\n",
       "      <th>2012-13</th>\n",
       "      <th>2013-14</th>\n",
       "      <th>2014-15</th>\n",
       "      <th>2015-16</th>\n",
       "      <th>2016-17</th>\n",
       "    </tr>\n",
       "    <tr>\n",
       "      <th>Sector</th>\n",
       "      <th></th>\n",
       "      <th></th>\n",
       "      <th></th>\n",
       "      <th></th>\n",
       "      <th></th>\n",
       "      <th></th>\n",
       "      <th></th>\n",
       "      <th></th>\n",
       "      <th></th>\n",
       "      <th></th>\n",
       "      <th></th>\n",
       "      <th></th>\n",
       "      <th></th>\n",
       "      <th></th>\n",
       "      <th></th>\n",
       "      <th></th>\n",
       "      <th></th>\n",
       "    </tr>\n",
       "  </thead>\n",
       "  <tbody>\n",
       "    <tr>\n",
       "      <th>METALLURGICAL INDUSTRIES</th>\n",
       "      <td>22.69</td>\n",
       "      <td>14.14</td>\n",
       "      <td>36.61</td>\n",
       "      <td>8.11</td>\n",
       "      <td>200.38</td>\n",
       "      <td>149.13</td>\n",
       "      <td>169.94</td>\n",
       "      <td>1175.75</td>\n",
       "      <td>959.94</td>\n",
       "      <td>419.88</td>\n",
       "      <td>1098.14</td>\n",
       "      <td>1786.14</td>\n",
       "      <td>1466.23</td>\n",
       "      <td>567.63</td>\n",
       "      <td>359.34</td>\n",
       "      <td>456.31</td>\n",
       "      <td>1440.18</td>\n",
       "    </tr>\n",
       "    <tr>\n",
       "      <th>MINING</th>\n",
       "      <td>1.32</td>\n",
       "      <td>6.52</td>\n",
       "      <td>10.06</td>\n",
       "      <td>23.48</td>\n",
       "      <td>9.92</td>\n",
       "      <td>7.40</td>\n",
       "      <td>6.62</td>\n",
       "      <td>444.36</td>\n",
       "      <td>34.16</td>\n",
       "      <td>174.40</td>\n",
       "      <td>79.51</td>\n",
       "      <td>142.65</td>\n",
       "      <td>57.89</td>\n",
       "      <td>12.73</td>\n",
       "      <td>684.39</td>\n",
       "      <td>520.67</td>\n",
       "      <td>55.75</td>\n",
       "    </tr>\n",
       "    <tr>\n",
       "      <th>POWER</th>\n",
       "      <td>89.42</td>\n",
       "      <td>757.44</td>\n",
       "      <td>59.11</td>\n",
       "      <td>27.09</td>\n",
       "      <td>43.37</td>\n",
       "      <td>72.69</td>\n",
       "      <td>157.15</td>\n",
       "      <td>988.68</td>\n",
       "      <td>907.66</td>\n",
       "      <td>1271.79</td>\n",
       "      <td>1271.77</td>\n",
       "      <td>1652.38</td>\n",
       "      <td>535.68</td>\n",
       "      <td>1066.08</td>\n",
       "      <td>707.04</td>\n",
       "      <td>868.80</td>\n",
       "      <td>1112.98</td>\n",
       "    </tr>\n",
       "    <tr>\n",
       "      <th>NON-CONVENTIONAL ENERGY</th>\n",
       "      <td>0.00</td>\n",
       "      <td>0.00</td>\n",
       "      <td>1.70</td>\n",
       "      <td>4.14</td>\n",
       "      <td>1.27</td>\n",
       "      <td>1.35</td>\n",
       "      <td>2.44</td>\n",
       "      <td>58.82</td>\n",
       "      <td>125.88</td>\n",
       "      <td>622.52</td>\n",
       "      <td>214.40</td>\n",
       "      <td>452.17</td>\n",
       "      <td>1106.52</td>\n",
       "      <td>414.25</td>\n",
       "      <td>615.95</td>\n",
       "      <td>776.51</td>\n",
       "      <td>783.57</td>\n",
       "    </tr>\n",
       "    <tr>\n",
       "      <th>COAL PRODUCTION</th>\n",
       "      <td>0.00</td>\n",
       "      <td>0.00</td>\n",
       "      <td>0.00</td>\n",
       "      <td>0.04</td>\n",
       "      <td>0.00</td>\n",
       "      <td>9.14</td>\n",
       "      <td>1.30</td>\n",
       "      <td>14.08</td>\n",
       "      <td>0.22</td>\n",
       "      <td>0.00</td>\n",
       "      <td>0.00</td>\n",
       "      <td>0.00</td>\n",
       "      <td>0.00</td>\n",
       "      <td>2.96</td>\n",
       "      <td>0.00</td>\n",
       "      <td>0.00</td>\n",
       "      <td>0.00</td>\n",
       "    </tr>\n",
       "  </tbody>\n",
       "</table>\n",
       "</div>"
      ],
      "text/plain": [
       "                          2000-01  2001-02  2002-03  2003-04  2004-05  \\\n",
       "Sector                                                                  \n",
       "METALLURGICAL INDUSTRIES    22.69    14.14    36.61     8.11   200.38   \n",
       "MINING                       1.32     6.52    10.06    23.48     9.92   \n",
       "POWER                       89.42   757.44    59.11    27.09    43.37   \n",
       "NON-CONVENTIONAL ENERGY      0.00     0.00     1.70     4.14     1.27   \n",
       "COAL PRODUCTION              0.00     0.00     0.00     0.04     0.00   \n",
       "\n",
       "                          2005-06  2006-07  2007-08  2008-09  2009-10  \\\n",
       "Sector                                                                  \n",
       "METALLURGICAL INDUSTRIES   149.13   169.94  1175.75   959.94   419.88   \n",
       "MINING                       7.40     6.62   444.36    34.16   174.40   \n",
       "POWER                       72.69   157.15   988.68   907.66  1271.79   \n",
       "NON-CONVENTIONAL ENERGY      1.35     2.44    58.82   125.88   622.52   \n",
       "COAL PRODUCTION              9.14     1.30    14.08     0.22     0.00   \n",
       "\n",
       "                          2010-11  2011-12  2012-13  2013-14  2014-15  \\\n",
       "Sector                                                                  \n",
       "METALLURGICAL INDUSTRIES  1098.14  1786.14  1466.23   567.63   359.34   \n",
       "MINING                      79.51   142.65    57.89    12.73   684.39   \n",
       "POWER                     1271.77  1652.38   535.68  1066.08   707.04   \n",
       "NON-CONVENTIONAL ENERGY    214.40   452.17  1106.52   414.25   615.95   \n",
       "COAL PRODUCTION              0.00     0.00     0.00     2.96     0.00   \n",
       "\n",
       "                          2015-16  2016-17  \n",
       "Sector                                      \n",
       "METALLURGICAL INDUSTRIES   456.31  1440.18  \n",
       "MINING                     520.67    55.75  \n",
       "POWER                      868.80  1112.98  \n",
       "NON-CONVENTIONAL ENERGY    776.51   783.57  \n",
       "COAL PRODUCTION              0.00     0.00  "
      ]
     },
     "execution_count": 3,
     "metadata": {},
     "output_type": "execute_result"
    }
   ],
   "source": [
    "df.head()"
   ]
  },
  {
   "cell_type": "code",
   "execution_count": 4,
   "id": "0b3dfb7a",
   "metadata": {},
   "outputs": [
    {
     "data": {
      "text/plain": [
       "(63, 17)"
      ]
     },
     "execution_count": 4,
     "metadata": {},
     "output_type": "execute_result"
    }
   ],
   "source": [
    "df.shape"
   ]
  },
  {
   "cell_type": "markdown",
   "id": "0feac503",
   "metadata": {},
   "source": [
    "### Initial EDA"
   ]
  },
  {
   "cell_type": "markdown",
   "id": "b1274095",
   "metadata": {},
   "source": [
    "Transforming the Dataset"
   ]
  },
  {
   "cell_type": "markdown",
   "id": "af7064cc",
   "metadata": {},
   "source": [
    "#### Repalcing some Long names of Sectors  to Short names"
   ]
  },
  {
   "cell_type": "code",
   "execution_count": 5,
   "id": "fea0c9dd",
   "metadata": {},
   "outputs": [],
   "source": [
    "df_copy = df.copy(deep = True)"
   ]
  },
  {
   "cell_type": "code",
   "execution_count": 6,
   "id": "f8d01464",
   "metadata": {},
   "outputs": [],
   "source": [
    "df_copy.rename(index = {\"SERVICES SECTOR (Fin.,Banking,Insurance,Non Fin/Business,Outsourcing,R&D,Courier,Tech. Testing and Analysis, Other)\":\n",
    "                             \"SERVICES SECTOR\", \"CONSTRUCTION DEVELOPMENT: Townships, housing, built-up infrastructure and construction-development projects\":\n",
    "                              \"CONSTRUCTION DEVELOPMENT\",\"TEA AND COFFEE (PROCESSING & WAREHOUSING COFFEE & RUBBER)\":\"TEA & COFFEE\",\n",
    "                              \"PRINTING OF BOOKS (INCLUDING LITHO PRINTING INDUSTRY)\":\"PRINTING OF BOOK\",\n",
    "                              \"LEATHER,LEATHER GOODS AND PICKERS\":\"LEATHER,LEATHER GOODS & PICKERS\",\n",
    "                              \"PAPER AND PULP(INCLUDING PAPER PRODUCTS)\":\"PAPER & PULP\",\n",
    "                              \"MATHEMATICAL,SURVEYING AND DRAWING INSTRUMENTS\":\"MATHEMATICAL,SURVEYING & DRAWING INSTRUMENTS\",\n",
    "                              \"INFORMATION & BROADCASTING (INCLUDING PRINT MEDIA)\":\"INFORMATION & BROADCASTING\",\n",
    "                              \"PRIME MOVER (OTHER THAN ELECTRICAL GENERATORS)\":\"PRIME MOVER\"}, inplace = True) "
   ]
  },
  {
   "cell_type": "markdown",
   "id": "c2f6346d",
   "metadata": {},
   "source": [
    "#### Transpose the dataframe"
   ]
  },
  {
   "cell_type": "code",
   "execution_count": 7,
   "id": "f3fbb1ed",
   "metadata": {},
   "outputs": [
    {
     "name": "stdout",
     "output_type": "stream",
     "text": [
      "<class 'pandas.core.indexes.base.Index'>\n"
     ]
    }
   ],
   "source": [
    "dfp = df_copy.transpose()\n",
    "dfp.index = [x[1] for x in dfp.index.str.split('-')]\n",
    "dfp.index = str('20') + dfp.index\n",
    "print(type(dfp.index))\n"
   ]
  },
  {
   "cell_type": "code",
   "execution_count": 8,
   "id": "195156bb",
   "metadata": {
    "scrolled": false
   },
   "outputs": [
    {
     "data": {
      "text/html": [
       "<div>\n",
       "<style scoped>\n",
       "    .dataframe tbody tr th:only-of-type {\n",
       "        vertical-align: middle;\n",
       "    }\n",
       "\n",
       "    .dataframe tbody tr th {\n",
       "        vertical-align: top;\n",
       "    }\n",
       "\n",
       "    .dataframe thead th {\n",
       "        text-align: right;\n",
       "    }\n",
       "</style>\n",
       "<table border=\"1\" class=\"dataframe\">\n",
       "  <thead>\n",
       "    <tr style=\"text-align: right;\">\n",
       "      <th>Sector</th>\n",
       "      <th>METALLURGICAL INDUSTRIES</th>\n",
       "      <th>MINING</th>\n",
       "      <th>POWER</th>\n",
       "      <th>NON-CONVENTIONAL ENERGY</th>\n",
       "      <th>COAL PRODUCTION</th>\n",
       "      <th>PETROLEUM &amp; NATURAL GAS</th>\n",
       "      <th>BOILERS AND STEAM GENERATING PLANTS</th>\n",
       "      <th>PRIME MOVER</th>\n",
       "      <th>ELECTRICAL EQUIPMENTS</th>\n",
       "      <th>COMPUTER SOFTWARE &amp; HARDWARE</th>\n",
       "      <th>...</th>\n",
       "      <th>TRADING</th>\n",
       "      <th>RETAIL TRADING</th>\n",
       "      <th>AGRICULTURE SERVICES</th>\n",
       "      <th>DIAMOND,GOLD ORNAMENTS</th>\n",
       "      <th>TEA &amp; COFFEE</th>\n",
       "      <th>PRINTING OF BOOK</th>\n",
       "      <th>COIR</th>\n",
       "      <th>CONSTRUCTION (INFRASTRUCTURE) ACTIVITIES</th>\n",
       "      <th>CONSTRUCTION DEVELOPMENT</th>\n",
       "      <th>MISCELLANEOUS INDUSTRIES</th>\n",
       "    </tr>\n",
       "  </thead>\n",
       "  <tbody>\n",
       "    <tr>\n",
       "      <th>2001</th>\n",
       "      <td>22.69</td>\n",
       "      <td>1.32</td>\n",
       "      <td>89.42</td>\n",
       "      <td>0.00</td>\n",
       "      <td>0.00</td>\n",
       "      <td>9.35</td>\n",
       "      <td>0.00</td>\n",
       "      <td>0.00</td>\n",
       "      <td>79.76</td>\n",
       "      <td>228.39</td>\n",
       "      <td>...</td>\n",
       "      <td>11.49</td>\n",
       "      <td>0.0</td>\n",
       "      <td>17.52</td>\n",
       "      <td>18.83</td>\n",
       "      <td>20.23</td>\n",
       "      <td>0.00</td>\n",
       "      <td>0.00</td>\n",
       "      <td>0.0</td>\n",
       "      <td>24.33</td>\n",
       "      <td>832.07</td>\n",
       "    </tr>\n",
       "    <tr>\n",
       "      <th>2002</th>\n",
       "      <td>14.14</td>\n",
       "      <td>6.52</td>\n",
       "      <td>757.44</td>\n",
       "      <td>0.00</td>\n",
       "      <td>0.00</td>\n",
       "      <td>211.07</td>\n",
       "      <td>0.00</td>\n",
       "      <td>0.00</td>\n",
       "      <td>65.76</td>\n",
       "      <td>419.39</td>\n",
       "      <td>...</td>\n",
       "      <td>43.27</td>\n",
       "      <td>0.0</td>\n",
       "      <td>14.06</td>\n",
       "      <td>0.36</td>\n",
       "      <td>0.14</td>\n",
       "      <td>0.00</td>\n",
       "      <td>0.00</td>\n",
       "      <td>0.0</td>\n",
       "      <td>51.75</td>\n",
       "      <td>221.37</td>\n",
       "    </tr>\n",
       "    <tr>\n",
       "      <th>2003</th>\n",
       "      <td>36.61</td>\n",
       "      <td>10.06</td>\n",
       "      <td>59.11</td>\n",
       "      <td>1.70</td>\n",
       "      <td>0.00</td>\n",
       "      <td>56.78</td>\n",
       "      <td>0.00</td>\n",
       "      <td>0.00</td>\n",
       "      <td>34.71</td>\n",
       "      <td>314.24</td>\n",
       "      <td>...</td>\n",
       "      <td>38.13</td>\n",
       "      <td>0.0</td>\n",
       "      <td>11.01</td>\n",
       "      <td>1.30</td>\n",
       "      <td>0.00</td>\n",
       "      <td>6.30</td>\n",
       "      <td>0.00</td>\n",
       "      <td>0.0</td>\n",
       "      <td>36.10</td>\n",
       "      <td>218.76</td>\n",
       "    </tr>\n",
       "    <tr>\n",
       "      <th>2004</th>\n",
       "      <td>8.11</td>\n",
       "      <td>23.48</td>\n",
       "      <td>27.09</td>\n",
       "      <td>4.14</td>\n",
       "      <td>0.04</td>\n",
       "      <td>80.64</td>\n",
       "      <td>0.04</td>\n",
       "      <td>0.00</td>\n",
       "      <td>73.20</td>\n",
       "      <td>368.32</td>\n",
       "      <td>...</td>\n",
       "      <td>31.12</td>\n",
       "      <td>0.0</td>\n",
       "      <td>0.59</td>\n",
       "      <td>1.96</td>\n",
       "      <td>0.32</td>\n",
       "      <td>0.00</td>\n",
       "      <td>0.00</td>\n",
       "      <td>0.0</td>\n",
       "      <td>47.04</td>\n",
       "      <td>235.48</td>\n",
       "    </tr>\n",
       "    <tr>\n",
       "      <th>2005</th>\n",
       "      <td>200.38</td>\n",
       "      <td>9.92</td>\n",
       "      <td>43.37</td>\n",
       "      <td>1.27</td>\n",
       "      <td>0.00</td>\n",
       "      <td>102.78</td>\n",
       "      <td>0.54</td>\n",
       "      <td>2.66</td>\n",
       "      <td>97.40</td>\n",
       "      <td>527.90</td>\n",
       "      <td>...</td>\n",
       "      <td>14.22</td>\n",
       "      <td>0.0</td>\n",
       "      <td>3.83</td>\n",
       "      <td>8.58</td>\n",
       "      <td>0.01</td>\n",
       "      <td>0.06</td>\n",
       "      <td>0.47</td>\n",
       "      <td>0.0</td>\n",
       "      <td>152.06</td>\n",
       "      <td>121.83</td>\n",
       "    </tr>\n",
       "  </tbody>\n",
       "</table>\n",
       "<p>5 rows × 63 columns</p>\n",
       "</div>"
      ],
      "text/plain": [
       "Sector  METALLURGICAL INDUSTRIES  MINING   POWER  NON-CONVENTIONAL ENERGY  \\\n",
       "2001                       22.69    1.32   89.42                     0.00   \n",
       "2002                       14.14    6.52  757.44                     0.00   \n",
       "2003                       36.61   10.06   59.11                     1.70   \n",
       "2004                        8.11   23.48   27.09                     4.14   \n",
       "2005                      200.38    9.92   43.37                     1.27   \n",
       "\n",
       "Sector  COAL PRODUCTION  PETROLEUM & NATURAL GAS  \\\n",
       "2001               0.00                     9.35   \n",
       "2002               0.00                   211.07   \n",
       "2003               0.00                    56.78   \n",
       "2004               0.04                    80.64   \n",
       "2005               0.00                   102.78   \n",
       "\n",
       "Sector  BOILERS AND STEAM GENERATING PLANTS  PRIME MOVER  \\\n",
       "2001                                   0.00         0.00   \n",
       "2002                                   0.00         0.00   \n",
       "2003                                   0.00         0.00   \n",
       "2004                                   0.04         0.00   \n",
       "2005                                   0.54         2.66   \n",
       "\n",
       "Sector  ELECTRICAL EQUIPMENTS  COMPUTER SOFTWARE & HARDWARE  ...  TRADING  \\\n",
       "2001                    79.76                        228.39  ...    11.49   \n",
       "2002                    65.76                        419.39  ...    43.27   \n",
       "2003                    34.71                        314.24  ...    38.13   \n",
       "2004                    73.20                        368.32  ...    31.12   \n",
       "2005                    97.40                        527.90  ...    14.22   \n",
       "\n",
       "Sector  RETAIL TRADING  AGRICULTURE SERVICES  DIAMOND,GOLD ORNAMENTS  \\\n",
       "2001               0.0                 17.52                   18.83   \n",
       "2002               0.0                 14.06                    0.36   \n",
       "2003               0.0                 11.01                    1.30   \n",
       "2004               0.0                  0.59                    1.96   \n",
       "2005               0.0                  3.83                    8.58   \n",
       "\n",
       "Sector  TEA & COFFEE  PRINTING OF BOOK  COIR  \\\n",
       "2001           20.23              0.00  0.00   \n",
       "2002            0.14              0.00  0.00   \n",
       "2003            0.00              6.30  0.00   \n",
       "2004            0.32              0.00  0.00   \n",
       "2005            0.01              0.06  0.47   \n",
       "\n",
       "Sector  CONSTRUCTION (INFRASTRUCTURE) ACTIVITIES  CONSTRUCTION DEVELOPMENT  \\\n",
       "2001                                         0.0                     24.33   \n",
       "2002                                         0.0                     51.75   \n",
       "2003                                         0.0                     36.10   \n",
       "2004                                         0.0                     47.04   \n",
       "2005                                         0.0                    152.06   \n",
       "\n",
       "Sector  MISCELLANEOUS INDUSTRIES  \n",
       "2001                      832.07  \n",
       "2002                      221.37  \n",
       "2003                      218.76  \n",
       "2004                      235.48  \n",
       "2005                      121.83  \n",
       "\n",
       "[5 rows x 63 columns]"
      ]
     },
     "execution_count": 8,
     "metadata": {},
     "output_type": "execute_result"
    }
   ],
   "source": [
    "dfp.head()"
   ]
  },
  {
   "cell_type": "code",
   "execution_count": 9,
   "id": "6efc62d5",
   "metadata": {},
   "outputs": [
    {
     "data": {
      "text/plain": [
       "(17, 63)"
      ]
     },
     "execution_count": 9,
     "metadata": {},
     "output_type": "execute_result"
    }
   ],
   "source": [
    "dfp.shape"
   ]
  },
  {
   "cell_type": "code",
   "execution_count": 10,
   "id": "8572d560",
   "metadata": {},
   "outputs": [],
   "source": [
    "data = dfp.copy(deep=True)"
   ]
  },
  {
   "cell_type": "code",
   "execution_count": 11,
   "id": "c0f46ead",
   "metadata": {},
   "outputs": [],
   "source": [
    "dfp_copy1 = dfp.copy(deep=True) # Created the copy of original dataset"
   ]
  },
  {
   "cell_type": "markdown",
   "id": "15cf1d79",
   "metadata": {},
   "source": [
    "#### Writing the functions that we will be using for further calculations of FDI"
   ]
  },
  {
   "cell_type": "code",
   "execution_count": 12,
   "id": "77a258fb",
   "metadata": {},
   "outputs": [],
   "source": [
    " # Function for Total FDI calculation \n",
    "    \n",
    "def TotalFDI_calculation(df_name, axis_var):\n",
    "    TotalFDI= df_name.sum(axis=axis_var)\n",
    "    \n",
    "    if axis_var == 1:\n",
    "        Percentage = round(TotalFDI.pct_change()*100,2)\n",
    "        col1 = 'Year'\n",
    "        col3 = 'Percentage Change'\n",
    "    else:\n",
    "        Percentage = round((df_name.sum()/TotalFDI.sum())*100,2)\n",
    "        col1 = 'Sector'\n",
    "        col3 = '%of Total FDI'   \n",
    "    dict_FDI = {col1 : TotalFDI.index,\n",
    "             'Total FDI' : TotalFDI.values,\n",
    "              col3 :Percentage.values}\n",
    "    df_dictFDI = pd.DataFrame(dict_FDI)\n",
    "        \n",
    "    return df_dictFDI\n",
    "    "
   ]
  },
  {
   "cell_type": "code",
   "execution_count": 13,
   "id": "21d7a0c1",
   "metadata": {},
   "outputs": [],
   "source": [
    "# Function to add the data lables\n",
    "\n",
    "def addlabels(sectors,amount):\n",
    "    for i in range(len(sectors)):\n",
    "        plt.text(i, round(amount[i],2), round(amount[i],2), ha = 'center')"
   ]
  },
  {
   "cell_type": "markdown",
   "id": "9ee2cfe2",
   "metadata": {},
   "source": [
    "### FDI in various sectors of Indian Economy from 2000 to 2017"
   ]
  },
  {
   "cell_type": "code",
   "execution_count": 14,
   "id": "9aaba84e",
   "metadata": {},
   "outputs": [
    {
     "data": {
      "text/plain": [
       "Text(0, 0.5, 'Amount is million USD')"
      ]
     },
     "execution_count": 14,
     "metadata": {},
     "output_type": "execute_result"
    },
    {
     "data": {
      "image/png": "[encoded data removed]",
      "text/plain": [
       "<Figure size 864x288 with 1 Axes>"
      ]
     },
     "metadata": {
      "needs_background": "light"
     },
     "output_type": "display_data"
    }
   ],
   "source": [
    "plt.figure(figsize=(12,4))\n",
    "plt.plot(dfp_copy1)\n",
    "plt.title('FDI IN ALL SECTORS OF INDIAN ECONOMY')\n",
    "plt.xlabel('Year')\n",
    "plt.ylabel('Amount is million USD')"
   ]
  },
  {
   "cell_type": "markdown",
   "id": "f02c0458",
   "metadata": {},
   "source": [
    "This is very untidy interpretation of data. So let's see the trend of total FDI inflow index. "
   ]
  },
  {
   "cell_type": "markdown",
   "id": "e5589343",
   "metadata": {},
   "source": [
    "#### Calculated the total FDI inflows and Percentage change Yearwise  "
   ]
  },
  {
   "cell_type": "code",
   "execution_count": 15,
   "id": "8e708ac4",
   "metadata": {},
   "outputs": [
    {
     "name": "stderr",
     "output_type": "stream",
     "text": [
      "C:\\Users\\ACER\\AppData\\Local\\Temp\\ipykernel_5220\\3831247937.py:4: FutureWarning: this method is deprecated in favour of `Styler.hide(axis='index')`\n",
      "  TotalFDIYearwise =  TotalFDIYearwise.style.hide_index()\n",
      "C:\\Users\\ACER\\AppData\\Local\\Temp\\ipykernel_5220\\3831247937.py:5: FutureWarning: this method is deprecated in favour of `Styler.format(precision=..)`\n",
      "  TotalFDIYearwise.set_precision(2)\n"
     ]
    },
    {
     "data": {
      "text/html": [
       "<style type=\"text/css\">\n",
       "</style>\n",
       "<table id=\"T_0f962\">\n",
       "  <thead>\n",
       "    <tr>\n",
       "      <th id=\"T_0f962_level0_col0\" class=\"col_heading level0 col0\" >Year</th>\n",
       "      <th id=\"T_0f962_level0_col1\" class=\"col_heading level0 col1\" >Total FDI</th>\n",
       "      <th id=\"T_0f962_level0_col2\" class=\"col_heading level0 col2\" >Percentage Change</th>\n",
       "    </tr>\n",
       "  </thead>\n",
       "  <tbody>\n",
       "    <tr>\n",
       "      <td id=\"T_0f962_row0_col0\" class=\"data row0 col0\" >2001</td>\n",
       "      <td id=\"T_0f962_row0_col1\" class=\"data row0 col1\" >2378.71</td>\n",
       "      <td id=\"T_0f962_row0_col2\" class=\"data row0 col2\" >nan</td>\n",
       "    </tr>\n",
       "    <tr>\n",
       "      <td id=\"T_0f962_row1_col0\" class=\"data row1 col0\" >2002</td>\n",
       "      <td id=\"T_0f962_row1_col1\" class=\"data row1 col1\" >4027.69</td>\n",
       "      <td id=\"T_0f962_row1_col2\" class=\"data row1 col2\" >69.32</td>\n",
       "    </tr>\n",
       "    <tr>\n",
       "      <td id=\"T_0f962_row2_col0\" class=\"data row2 col0\" >2003</td>\n",
       "      <td id=\"T_0f962_row2_col1\" class=\"data row2 col1\" >2704.32</td>\n",
       "      <td id=\"T_0f962_row2_col2\" class=\"data row2 col2\" >-32.86</td>\n",
       "    </tr>\n",
       "    <tr>\n",
       "      <td id=\"T_0f962_row3_col0\" class=\"data row3 col0\" >2004</td>\n",
       "      <td id=\"T_0f962_row3_col1\" class=\"data row3 col1\" >2187.85</td>\n",
       "      <td id=\"T_0f962_row3_col2\" class=\"data row3 col2\" >-19.10</td>\n",
       "    </tr>\n",
       "    <tr>\n",
       "      <td id=\"T_0f962_row4_col0\" class=\"data row4 col0\" >2005</td>\n",
       "      <td id=\"T_0f962_row4_col1\" class=\"data row4 col1\" >3218.69</td>\n",
       "      <td id=\"T_0f962_row4_col2\" class=\"data row4 col2\" >47.12</td>\n",
       "    </tr>\n",
       "    <tr>\n",
       "      <td id=\"T_0f962_row5_col0\" class=\"data row5 col0\" >2006</td>\n",
       "      <td id=\"T_0f962_row5_col1\" class=\"data row5 col1\" >5539.75</td>\n",
       "      <td id=\"T_0f962_row5_col2\" class=\"data row5 col2\" >72.11</td>\n",
       "    </tr>\n",
       "    <tr>\n",
       "      <td id=\"T_0f962_row6_col0\" class=\"data row6 col0\" >2007</td>\n",
       "      <td id=\"T_0f962_row6_col1\" class=\"data row6 col1\" >12491.76</td>\n",
       "      <td id=\"T_0f962_row6_col2\" class=\"data row6 col2\" >125.49</td>\n",
       "    </tr>\n",
       "    <tr>\n",
       "      <td id=\"T_0f962_row7_col0\" class=\"data row7 col0\" >2008</td>\n",
       "      <td id=\"T_0f962_row7_col1\" class=\"data row7 col1\" >24575.40</td>\n",
       "      <td id=\"T_0f962_row7_col2\" class=\"data row7 col2\" >96.73</td>\n",
       "    </tr>\n",
       "    <tr>\n",
       "      <td id=\"T_0f962_row8_col0\" class=\"data row8 col0\" >2009</td>\n",
       "      <td id=\"T_0f962_row8_col1\" class=\"data row8 col1\" >31395.96</td>\n",
       "      <td id=\"T_0f962_row8_col2\" class=\"data row8 col2\" >27.75</td>\n",
       "    </tr>\n",
       "    <tr>\n",
       "      <td id=\"T_0f962_row9_col0\" class=\"data row9 col0\" >2010</td>\n",
       "      <td id=\"T_0f962_row9_col1\" class=\"data row9 col1\" >25834.38</td>\n",
       "      <td id=\"T_0f962_row9_col2\" class=\"data row9 col2\" >-17.71</td>\n",
       "    </tr>\n",
       "    <tr>\n",
       "      <td id=\"T_0f962_row10_col0\" class=\"data row10 col0\" >2011</td>\n",
       "      <td id=\"T_0f962_row10_col1\" class=\"data row10 col1\" >21383.07</td>\n",
       "      <td id=\"T_0f962_row10_col2\" class=\"data row10 col2\" >-17.23</td>\n",
       "    </tr>\n",
       "    <tr>\n",
       "      <td id=\"T_0f962_row11_col0\" class=\"data row11 col0\" >2012</td>\n",
       "      <td id=\"T_0f962_row11_col1\" class=\"data row11 col1\" >35120.78</td>\n",
       "      <td id=\"T_0f962_row11_col2\" class=\"data row11 col2\" >64.25</td>\n",
       "    </tr>\n",
       "    <tr>\n",
       "      <td id=\"T_0f962_row12_col0\" class=\"data row12 col0\" >2013</td>\n",
       "      <td id=\"T_0f962_row12_col1\" class=\"data row12 col1\" >22423.59</td>\n",
       "      <td id=\"T_0f962_row12_col2\" class=\"data row12 col2\" >-36.15</td>\n",
       "    </tr>\n",
       "    <tr>\n",
       "      <td id=\"T_0f962_row13_col0\" class=\"data row13 col0\" >2014</td>\n",
       "      <td id=\"T_0f962_row13_col1\" class=\"data row13 col1\" >24299.32</td>\n",
       "      <td id=\"T_0f962_row13_col2\" class=\"data row13 col2\" >8.36</td>\n",
       "    </tr>\n",
       "    <tr>\n",
       "      <td id=\"T_0f962_row14_col0\" class=\"data row14 col0\" >2015</td>\n",
       "      <td id=\"T_0f962_row14_col1\" class=\"data row14 col1\" >30930.47</td>\n",
       "      <td id=\"T_0f962_row14_col2\" class=\"data row14 col2\" >27.29</td>\n",
       "    </tr>\n",
       "    <tr>\n",
       "      <td id=\"T_0f962_row15_col0\" class=\"data row15 col0\" >2016</td>\n",
       "      <td id=\"T_0f962_row15_col1\" class=\"data row15 col1\" >40000.99</td>\n",
       "      <td id=\"T_0f962_row15_col2\" class=\"data row15 col2\" >29.33</td>\n",
       "    </tr>\n",
       "    <tr>\n",
       "      <td id=\"T_0f962_row16_col0\" class=\"data row16 col0\" >2017</td>\n",
       "      <td id=\"T_0f962_row16_col1\" class=\"data row16 col1\" >43478.26</td>\n",
       "      <td id=\"T_0f962_row16_col2\" class=\"data row16 col2\" >8.69</td>\n",
       "    </tr>\n",
       "  </tbody>\n",
       "</table>\n"
      ],
      "text/plain": [
       "<pandas.io.formats.style.Styler at 0x1e0812bcd00>"
      ]
     },
     "execution_count": 15,
     "metadata": {},
     "output_type": "execute_result"
    }
   ],
   "source": [
    "# Total FDI Yearwise with Percentage change\n",
    "\n",
    "TotalFDIYearwise = TotalFDI_calculation(dfp_copy1, 1) # For yearwise um of FDI we pass axis variable = 1\n",
    "TotalFDIYearwise =  TotalFDIYearwise.style.hide_index()\n",
    "TotalFDIYearwise.set_precision(2)\n"
   ]
  },
  {
   "cell_type": "markdown",
   "id": "0d7ae611",
   "metadata": {},
   "source": [
    "\n",
    "###  Graphical representation of FDI index by the year"
   ]
  },
  {
   "cell_type": "code",
   "execution_count": 16,
   "id": "668edb20",
   "metadata": {
    "scrolled": false
   },
   "outputs": [
    {
     "data": {
      "text/plain": [
       "Text(0, 0.5, 'Amount in USD')"
      ]
     },
     "execution_count": 16,
     "metadata": {},
     "output_type": "execute_result"
    },
    {
     "data": {
      "image/png": "[encoded data removed]",
      "text/plain": [
       "<Figure size 720x288 with 1 Axes>"
      ]
     },
     "metadata": {
      "needs_background": "light"
     },
     "output_type": "display_data"
    }
   ],
   "source": [
    "TotalFDI_Yearwise = dfp_copy1.sum(axis=1)\n",
    "plt.figure(figsize=(10,4))\n",
    "plt.plot(TotalFDI_Yearwise)\n",
    "plt.title(\"Trend of FDI in India\")\n",
    "plt.xlabel(\"Years\")\n",
    "plt.xticks(rotation=75)\n",
    "plt.ylabel(\"Amount in USD\")"
   ]
  },
  {
   "cell_type": "markdown",
   "id": "5f5b3215",
   "metadata": {},
   "source": [
    "* The above graph shows the total Foreign Direct Investment inflows of India from 2000 to 2017.\n",
    "* From 2006 it started going up with a great hike but then there was a little downfall from 2009 to 2011 and from 2012 to 2013\n",
    "* After the downfall, again in 2014 it started going in an upward direction and reached its highest level \n",
    "  in the last 17 years( from 2000 to 2017).\n"
   ]
  },
  {
   "cell_type": "markdown",
   "id": "f0144f1c",
   "metadata": {},
   "source": [
    "#### Calculated the Total FDI inflows and Percentage Sectorwise"
   ]
  },
  {
   "cell_type": "code",
   "execution_count": 17,
   "id": "6bc86944",
   "metadata": {},
   "outputs": [
    {
     "name": "stderr",
     "output_type": "stream",
     "text": [
      "C:\\Users\\ACER\\AppData\\Local\\Temp\\ipykernel_5220\\1966061352.py:5: FutureWarning: this method is deprecated in favour of `Styler.hide(axis='index')`\n",
      "  TotalFDI_Sectorwise =  TotalFDI_Sectorwise.style.hide_index() # used styler to hide the index\n",
      "C:\\Users\\ACER\\AppData\\Local\\Temp\\ipykernel_5220\\1966061352.py:6: FutureWarning: this method is deprecated in favour of `Styler.format(precision=..)`\n",
      "  TotalFDI_Sectorwise.set_precision(2)\n"
     ]
    },
    {
     "data": {
      "text/html": [
       "<style type=\"text/css\">\n",
       "</style>\n",
       "<table id=\"T_03948\">\n",
       "  <thead>\n",
       "    <tr>\n",
       "      <th id=\"T_03948_level0_col0\" class=\"col_heading level0 col0\" >Sector</th>\n",
       "      <th id=\"T_03948_level0_col1\" class=\"col_heading level0 col1\" >Total FDI</th>\n",
       "      <th id=\"T_03948_level0_col2\" class=\"col_heading level0 col2\" >%of Total FDI</th>\n",
       "    </tr>\n",
       "  </thead>\n",
       "  <tbody>\n",
       "    <tr>\n",
       "      <td id=\"T_03948_row0_col0\" class=\"data row0 col0\" >SERVICES SECTOR</td>\n",
       "      <td id=\"T_03948_row0_col1\" class=\"data row0 col1\" >59476.49</td>\n",
       "      <td id=\"T_03948_row0_col2\" class=\"data row0 col2\" >17.92</td>\n",
       "    </tr>\n",
       "    <tr>\n",
       "      <td id=\"T_03948_row1_col0\" class=\"data row1 col0\" >COMPUTER SOFTWARE & HARDWARE</td>\n",
       "      <td id=\"T_03948_row1_col1\" class=\"data row1 col1\" >24669.49</td>\n",
       "      <td id=\"T_03948_row1_col2\" class=\"data row1 col2\" >7.43</td>\n",
       "    </tr>\n",
       "    <tr>\n",
       "      <td id=\"T_03948_row2_col0\" class=\"data row2 col0\" >CONSTRUCTION DEVELOPMENT</td>\n",
       "      <td id=\"T_03948_row2_col1\" class=\"data row2 col1\" >24293.09</td>\n",
       "      <td id=\"T_03948_row2_col2\" class=\"data row2 col2\" >7.32</td>\n",
       "    </tr>\n",
       "    <tr>\n",
       "      <td id=\"T_03948_row3_col0\" class=\"data row3 col0\" >TELECOMMUNICATIONS</td>\n",
       "      <td id=\"T_03948_row3_col1\" class=\"data row3 col1\" >23946.01</td>\n",
       "      <td id=\"T_03948_row3_col2\" class=\"data row3 col2\" >7.21</td>\n",
       "    </tr>\n",
       "    <tr>\n",
       "      <td id=\"T_03948_row4_col0\" class=\"data row4 col0\" >AUTOMOBILE INDUSTRY</td>\n",
       "      <td id=\"T_03948_row4_col1\" class=\"data row4 col1\" >16673.92</td>\n",
       "      <td id=\"T_03948_row4_col2\" class=\"data row4 col2\" >5.02</td>\n",
       "    </tr>\n",
       "    <tr>\n",
       "      <td id=\"T_03948_row5_col0\" class=\"data row5 col0\" >DRUGS & PHARMACEUTICALS</td>\n",
       "      <td id=\"T_03948_row5_col1\" class=\"data row5 col1\" >14706.90</td>\n",
       "      <td id=\"T_03948_row5_col2\" class=\"data row5 col2\" >4.43</td>\n",
       "    </tr>\n",
       "    <tr>\n",
       "      <td id=\"T_03948_row6_col0\" class=\"data row6 col0\" >TRADING</td>\n",
       "      <td id=\"T_03948_row6_col1\" class=\"data row6 col1\" >14210.88</td>\n",
       "      <td id=\"T_03948_row6_col2\" class=\"data row6 col2\" >4.28</td>\n",
       "    </tr>\n",
       "    <tr>\n",
       "      <td id=\"T_03948_row7_col0\" class=\"data row7 col0\" >CHEMICALS (OTHER THAN FERTILIZERS)</td>\n",
       "      <td id=\"T_03948_row7_col1\" class=\"data row7 col1\" >13293.09</td>\n",
       "      <td id=\"T_03948_row7_col2\" class=\"data row7 col2\" >4.00</td>\n",
       "    </tr>\n",
       "    <tr>\n",
       "      <td id=\"T_03948_row8_col0\" class=\"data row8 col0\" >POWER</td>\n",
       "      <td id=\"T_03948_row8_col1\" class=\"data row8 col1\" >11589.13</td>\n",
       "      <td id=\"T_03948_row8_col2\" class=\"data row8 col2\" >3.49</td>\n",
       "    </tr>\n",
       "    <tr>\n",
       "      <td id=\"T_03948_row9_col0\" class=\"data row9 col0\" >METALLURGICAL INDUSTRIES</td>\n",
       "      <td id=\"T_03948_row9_col1\" class=\"data row9 col1\" >10330.54</td>\n",
       "      <td id=\"T_03948_row9_col2\" class=\"data row9 col2\" >3.11</td>\n",
       "    </tr>\n",
       "    <tr>\n",
       "      <td id=\"T_03948_row10_col0\" class=\"data row10 col0\" >HOTEL & TOURISM</td>\n",
       "      <td id=\"T_03948_row10_col1\" class=\"data row10 col1\" >10143.46</td>\n",
       "      <td id=\"T_03948_row10_col2\" class=\"data row10 col2\" >3.06</td>\n",
       "    </tr>\n",
       "    <tr>\n",
       "      <td id=\"T_03948_row11_col0\" class=\"data row11 col0\" >MISCELLANEOUS INDUSTRIES</td>\n",
       "      <td id=\"T_03948_row11_col1\" class=\"data row11 col1\" >10043.45</td>\n",
       "      <td id=\"T_03948_row11_col2\" class=\"data row11 col2\" >3.03</td>\n",
       "    </tr>\n",
       "    <tr>\n",
       "      <td id=\"T_03948_row12_col0\" class=\"data row12 col0\" >CONSTRUCTION (INFRASTRUCTURE) ACTIVITIES</td>\n",
       "      <td id=\"T_03948_row12_col1\" class=\"data row12 col1\" >9817.47</td>\n",
       "      <td id=\"T_03948_row12_col2\" class=\"data row12 col2\" >2.96</td>\n",
       "    </tr>\n",
       "    <tr>\n",
       "      <td id=\"T_03948_row13_col0\" class=\"data row13 col0\" >FOOD PROCESSING INDUSTRIES</td>\n",
       "      <td id=\"T_03948_row13_col1\" class=\"data row13 col1\" >7542.92</td>\n",
       "      <td id=\"T_03948_row13_col2\" class=\"data row13 col2\" >2.27</td>\n",
       "    </tr>\n",
       "    <tr>\n",
       "      <td id=\"T_03948_row14_col0\" class=\"data row14 col0\" >PETROLEUM & NATURAL GAS</td>\n",
       "      <td id=\"T_03948_row14_col1\" class=\"data row14 col1\" >6856.16</td>\n",
       "      <td id=\"T_03948_row14_col2\" class=\"data row14 col2\" >2.07</td>\n",
       "    </tr>\n",
       "    <tr>\n",
       "      <td id=\"T_03948_row15_col0\" class=\"data row15 col0\" >ELECTRICAL EQUIPMENTS</td>\n",
       "      <td id=\"T_03948_row15_col1\" class=\"data row15 col1\" >6567.41</td>\n",
       "      <td id=\"T_03948_row15_col2\" class=\"data row15 col2\" >1.98</td>\n",
       "    </tr>\n",
       "    <tr>\n",
       "      <td id=\"T_03948_row16_col0\" class=\"data row16 col0\" >INFORMATION & BROADCASTING</td>\n",
       "      <td id=\"T_03948_row16_col1\" class=\"data row16 col1\" >6493.71</td>\n",
       "      <td id=\"T_03948_row16_col2\" class=\"data row16 col2\" >1.96</td>\n",
       "    </tr>\n",
       "    <tr>\n",
       "      <td id=\"T_03948_row17_col0\" class=\"data row17 col0\" >CEMENT AND GYPSUM PRODUCTS</td>\n",
       "      <td id=\"T_03948_row17_col1\" class=\"data row17 col1\" >5239.23</td>\n",
       "      <td id=\"T_03948_row17_col2\" class=\"data row17 col2\" >1.58</td>\n",
       "    </tr>\n",
       "    <tr>\n",
       "      <td id=\"T_03948_row18_col0\" class=\"data row18 col0\" >NON-CONVENTIONAL ENERGY</td>\n",
       "      <td id=\"T_03948_row18_col1\" class=\"data row18 col1\" >5181.49</td>\n",
       "      <td id=\"T_03948_row18_col2\" class=\"data row18 col2\" >1.56</td>\n",
       "    </tr>\n",
       "    <tr>\n",
       "      <td id=\"T_03948_row19_col0\" class=\"data row19 col0\" >INDUSTRIAL MACHINERY</td>\n",
       "      <td id=\"T_03948_row19_col1\" class=\"data row19 col1\" >4393.88</td>\n",
       "      <td id=\"T_03948_row19_col2\" class=\"data row19 col2\" >1.32</td>\n",
       "    </tr>\n",
       "    <tr>\n",
       "      <td id=\"T_03948_row20_col0\" class=\"data row20 col0\" >HOSPITAL & DIAGNOSTIC CENTRES</td>\n",
       "      <td id=\"T_03948_row20_col1\" class=\"data row20 col1\" >4339.49</td>\n",
       "      <td id=\"T_03948_row20_col2\" class=\"data row20 col2\" >1.31</td>\n",
       "    </tr>\n",
       "    <tr>\n",
       "      <td id=\"T_03948_row21_col0\" class=\"data row21 col0\" >CONSULTANCY SERVICES</td>\n",
       "      <td id=\"T_03948_row21_col1\" class=\"data row21 col1\" >3617.73</td>\n",
       "      <td id=\"T_03948_row21_col2\" class=\"data row21 col2\" >1.09</td>\n",
       "    </tr>\n",
       "    <tr>\n",
       "      <td id=\"T_03948_row22_col0\" class=\"data row22 col0\" >MISCELLANEOUS MECHANICAL & ENGINEERING INDUSTRIES</td>\n",
       "      <td id=\"T_03948_row22_col1\" class=\"data row22 col1\" >3313.33</td>\n",
       "      <td id=\"T_03948_row22_col2\" class=\"data row22 col2\" >1.00</td>\n",
       "    </tr>\n",
       "    <tr>\n",
       "      <td id=\"T_03948_row23_col0\" class=\"data row23 col0\" >SEA TRANSPORT</td>\n",
       "      <td id=\"T_03948_row23_col1\" class=\"data row23 col1\" >2712.57</td>\n",
       "      <td id=\"T_03948_row23_col2\" class=\"data row23 col2\" >0.82</td>\n",
       "    </tr>\n",
       "    <tr>\n",
       "      <td id=\"T_03948_row24_col0\" class=\"data row24 col0\" >FERMENTATION INDUSTRIES</td>\n",
       "      <td id=\"T_03948_row24_col1\" class=\"data row24 col1\" >2487.81</td>\n",
       "      <td id=\"T_03948_row24_col2\" class=\"data row24 col2\" >0.75</td>\n",
       "    </tr>\n",
       "    <tr>\n",
       "      <td id=\"T_03948_row25_col0\" class=\"data row25 col0\" >TEXTILES (INCLUDING DYED,PRINTED)</td>\n",
       "      <td id=\"T_03948_row25_col1\" class=\"data row25 col1\" >2471.41</td>\n",
       "      <td id=\"T_03948_row25_col2\" class=\"data row25 col2\" >0.74</td>\n",
       "    </tr>\n",
       "    <tr>\n",
       "      <td id=\"T_03948_row26_col0\" class=\"data row26 col0\" >RUBBER GOODS</td>\n",
       "      <td id=\"T_03948_row26_col1\" class=\"data row26 col1\" >2347.02</td>\n",
       "      <td id=\"T_03948_row26_col2\" class=\"data row26 col2\" >0.71</td>\n",
       "    </tr>\n",
       "    <tr>\n",
       "      <td id=\"T_03948_row27_col0\" class=\"data row27 col0\" >MINING</td>\n",
       "      <td id=\"T_03948_row27_col1\" class=\"data row27 col1\" >2271.83</td>\n",
       "      <td id=\"T_03948_row27_col2\" class=\"data row27 col2\" >0.68</td>\n",
       "    </tr>\n",
       "    <tr>\n",
       "      <td id=\"T_03948_row28_col0\" class=\"data row28 col0\" >AGRICULTURE SERVICES</td>\n",
       "      <td id=\"T_03948_row28_col1\" class=\"data row28 col1\" >1920.75</td>\n",
       "      <td id=\"T_03948_row28_col2\" class=\"data row28 col2\" >0.58</td>\n",
       "    </tr>\n",
       "    <tr>\n",
       "      <td id=\"T_03948_row29_col0\" class=\"data row29 col0\" >PRIME MOVER</td>\n",
       "      <td id=\"T_03948_row29_col1\" class=\"data row29 col1\" >1738.16</td>\n",
       "      <td id=\"T_03948_row29_col2\" class=\"data row29 col2\" >0.52</td>\n",
       "    </tr>\n",
       "    <tr>\n",
       "      <td id=\"T_03948_row30_col0\" class=\"data row30 col0\" >ELECTRONICS</td>\n",
       "      <td id=\"T_03948_row30_col1\" class=\"data row30 col1\" >1719.98</td>\n",
       "      <td id=\"T_03948_row30_col2\" class=\"data row30 col2\" >0.52</td>\n",
       "    </tr>\n",
       "    <tr>\n",
       "      <td id=\"T_03948_row31_col0\" class=\"data row31 col0\" >PORTS</td>\n",
       "      <td id=\"T_03948_row31_col1\" class=\"data row31 col1\" >1637.28</td>\n",
       "      <td id=\"T_03948_row31_col2\" class=\"data row31 col2\" >0.49</td>\n",
       "    </tr>\n",
       "    <tr>\n",
       "      <td id=\"T_03948_row32_col0\" class=\"data row32 col0\" >MEDICAL AND SURGICAL APPLIANCES</td>\n",
       "      <td id=\"T_03948_row32_col1\" class=\"data row32 col1\" >1576.84</td>\n",
       "      <td id=\"T_03948_row32_col2\" class=\"data row32 col2\" >0.47</td>\n",
       "    </tr>\n",
       "    <tr>\n",
       "      <td id=\"T_03948_row33_col0\" class=\"data row33 col0\" >EDUCATION</td>\n",
       "      <td id=\"T_03948_row33_col1\" class=\"data row33 col1\" >1416.20</td>\n",
       "      <td id=\"T_03948_row33_col2\" class=\"data row33 col2\" >0.43</td>\n",
       "    </tr>\n",
       "    <tr>\n",
       "      <td id=\"T_03948_row34_col0\" class=\"data row34 col0\" >PAPER AND PULP (INCLUDING PAPER PRODUCTS)</td>\n",
       "      <td id=\"T_03948_row34_col1\" class=\"data row34 col1\" >1291.44</td>\n",
       "      <td id=\"T_03948_row34_col2\" class=\"data row34 col2\" >0.39</td>\n",
       "    </tr>\n",
       "    <tr>\n",
       "      <td id=\"T_03948_row35_col0\" class=\"data row35 col0\" >SOAPS, COSMETICS & TOILET PREPARATIONS</td>\n",
       "      <td id=\"T_03948_row35_col1\" class=\"data row35 col1\" >1203.91</td>\n",
       "      <td id=\"T_03948_row35_col2\" class=\"data row35 col2\" >0.36</td>\n",
       "    </tr>\n",
       "    <tr>\n",
       "      <td id=\"T_03948_row36_col0\" class=\"data row36 col0\" >AIR TRANSPORT (INCLUDING AIR FREIGHT)</td>\n",
       "      <td id=\"T_03948_row36_col1\" class=\"data row36 col1\" >1014.44</td>\n",
       "      <td id=\"T_03948_row36_col2\" class=\"data row36 col2\" >0.31</td>\n",
       "    </tr>\n",
       "    <tr>\n",
       "      <td id=\"T_03948_row37_col0\" class=\"data row37 col0\" >RETAIL TRADING</td>\n",
       "      <td id=\"T_03948_row37_col1\" class=\"data row37 col1\" >988.57</td>\n",
       "      <td id=\"T_03948_row37_col2\" class=\"data row37 col2\" >0.30</td>\n",
       "    </tr>\n",
       "    <tr>\n",
       "      <td id=\"T_03948_row38_col0\" class=\"data row38 col0\" >DIAMOND,GOLD ORNAMENTS</td>\n",
       "      <td id=\"T_03948_row38_col1\" class=\"data row38 col1\" >895.95</td>\n",
       "      <td id=\"T_03948_row38_col2\" class=\"data row38 col2\" >0.27</td>\n",
       "    </tr>\n",
       "    <tr>\n",
       "      <td id=\"T_03948_row39_col0\" class=\"data row39 col0\" >MACHINE TOOLS</td>\n",
       "      <td id=\"T_03948_row39_col1\" class=\"data row39 col1\" >861.83</td>\n",
       "      <td id=\"T_03948_row39_col2\" class=\"data row39 col2\" >0.26</td>\n",
       "    </tr>\n",
       "    <tr>\n",
       "      <td id=\"T_03948_row40_col0\" class=\"data row40 col0\" >RAILWAY RELATED COMPONENTS</td>\n",
       "      <td id=\"T_03948_row40_col1\" class=\"data row40 col1\" >798.55</td>\n",
       "      <td id=\"T_03948_row40_col2\" class=\"data row40 col2\" >0.24</td>\n",
       "    </tr>\n",
       "    <tr>\n",
       "      <td id=\"T_03948_row41_col0\" class=\"data row41 col0\" >CERAMICS</td>\n",
       "      <td id=\"T_03948_row41_col1\" class=\"data row41 col1\" >760.12</td>\n",
       "      <td id=\"T_03948_row41_col2\" class=\"data row41 col2\" >0.23</td>\n",
       "    </tr>\n",
       "    <tr>\n",
       "      <td id=\"T_03948_row42_col0\" class=\"data row42 col0\" >VEGETABLE OILS AND VANASPATI</td>\n",
       "      <td id=\"T_03948_row42_col1\" class=\"data row42 col1\" >697.50</td>\n",
       "      <td id=\"T_03948_row42_col2\" class=\"data row42 col2\" >0.21</td>\n",
       "    </tr>\n",
       "    <tr>\n",
       "      <td id=\"T_03948_row43_col0\" class=\"data row43 col0\" >PRINTING OF BOOK</td>\n",
       "      <td id=\"T_03948_row43_col1\" class=\"data row43 col1\" >634.66</td>\n",
       "      <td id=\"T_03948_row43_col2\" class=\"data row43 col2\" >0.19</td>\n",
       "    </tr>\n",
       "    <tr>\n",
       "      <td id=\"T_03948_row44_col0\" class=\"data row44 col0\" >FERTILIZERS</td>\n",
       "      <td id=\"T_03948_row44_col1\" class=\"data row44 col1\" >565.69</td>\n",
       "      <td id=\"T_03948_row44_col2\" class=\"data row44 col2\" >0.17</td>\n",
       "    </tr>\n",
       "    <tr>\n",
       "      <td id=\"T_03948_row45_col0\" class=\"data row45 col0\" >GLASS</td>\n",
       "      <td id=\"T_03948_row45_col1\" class=\"data row45 col1\" >551.45</td>\n",
       "      <td id=\"T_03948_row45_col2\" class=\"data row45 col2\" >0.17</td>\n",
       "    </tr>\n",
       "    <tr>\n",
       "      <td id=\"T_03948_row46_col0\" class=\"data row46 col0\" >AGRICULTURAL MACHINERY</td>\n",
       "      <td id=\"T_03948_row46_col1\" class=\"data row46 col1\" >449.20</td>\n",
       "      <td id=\"T_03948_row46_col2\" class=\"data row46 col2\" >0.14</td>\n",
       "    </tr>\n",
       "    <tr>\n",
       "      <td id=\"T_03948_row47_col0\" class=\"data row47 col0\" >EARTH-MOVING MACHINERY</td>\n",
       "      <td id=\"T_03948_row47_col1\" class=\"data row47 col1\" >389.39</td>\n",
       "      <td id=\"T_03948_row47_col2\" class=\"data row47 col2\" >0.12</td>\n",
       "    </tr>\n",
       "    <tr>\n",
       "      <td id=\"T_03948_row48_col0\" class=\"data row48 col0\" >COMMERCIAL, OFFICE & HOUSEHOLD EQUIPMENTS</td>\n",
       "      <td id=\"T_03948_row48_col1\" class=\"data row48 col1\" >353.47</td>\n",
       "      <td id=\"T_03948_row48_col2\" class=\"data row48 col2\" >0.11</td>\n",
       "    </tr>\n",
       "    <tr>\n",
       "      <td id=\"T_03948_row49_col0\" class=\"data row49 col0\" >SCIENTIFIC INSTRUMENTS</td>\n",
       "      <td id=\"T_03948_row49_col1\" class=\"data row49 col1\" >254.93</td>\n",
       "      <td id=\"T_03948_row49_col2\" class=\"data row49 col2\" >0.08</td>\n",
       "    </tr>\n",
       "    <tr>\n",
       "      <td id=\"T_03948_row50_col0\" class=\"data row50 col0\" >SUGAR</td>\n",
       "      <td id=\"T_03948_row50_col1\" class=\"data row50 col1\" >204.43</td>\n",
       "      <td id=\"T_03948_row50_col2\" class=\"data row50 col2\" >0.06</td>\n",
       "    </tr>\n",
       "    <tr>\n",
       "      <td id=\"T_03948_row51_col0\" class=\"data row51 col0\" >BOILERS AND STEAM GENERATING PLANTS</td>\n",
       "      <td id=\"T_03948_row51_col1\" class=\"data row51 col1\" >195.15</td>\n",
       "      <td id=\"T_03948_row51_col2\" class=\"data row51 col2\" >0.06</td>\n",
       "    </tr>\n",
       "    <tr>\n",
       "      <td id=\"T_03948_row52_col0\" class=\"data row52 col0\" >LEATHER,LEATHER GOODS & PICKERS</td>\n",
       "      <td id=\"T_03948_row52_col1\" class=\"data row52 col1\" >167.20</td>\n",
       "      <td id=\"T_03948_row52_col2\" class=\"data row52 col2\" >0.05</td>\n",
       "    </tr>\n",
       "    <tr>\n",
       "      <td id=\"T_03948_row53_col0\" class=\"data row53 col0\" >TIMBER PRODUCTS</td>\n",
       "      <td id=\"T_03948_row53_col1\" class=\"data row53 col1\" >157.68</td>\n",
       "      <td id=\"T_03948_row53_col2\" class=\"data row53 col2\" >0.05</td>\n",
       "    </tr>\n",
       "    <tr>\n",
       "      <td id=\"T_03948_row54_col0\" class=\"data row54 col0\" >GLUE AND GELATIN</td>\n",
       "      <td id=\"T_03948_row54_col1\" class=\"data row54 col1\" >128.39</td>\n",
       "      <td id=\"T_03948_row54_col2\" class=\"data row54 col2\" >0.04</td>\n",
       "    </tr>\n",
       "    <tr>\n",
       "      <td id=\"T_03948_row55_col0\" class=\"data row55 col0\" >TEA & COFFEE</td>\n",
       "      <td id=\"T_03948_row55_col1\" class=\"data row55 col1\" >111.22</td>\n",
       "      <td id=\"T_03948_row55_col2\" class=\"data row55 col2\" >0.03</td>\n",
       "    </tr>\n",
       "    <tr>\n",
       "      <td id=\"T_03948_row56_col0\" class=\"data row56 col0\" >DYE-STUFFS</td>\n",
       "      <td id=\"T_03948_row56_col1\" class=\"data row56 col1\" >88.40</td>\n",
       "      <td id=\"T_03948_row56_col2\" class=\"data row56 col2\" >0.03</td>\n",
       "    </tr>\n",
       "    <tr>\n",
       "      <td id=\"T_03948_row57_col0\" class=\"data row57 col0\" >INDUSTRIAL INSTRUMENTS</td>\n",
       "      <td id=\"T_03948_row57_col1\" class=\"data row57 col1\" >76.12</td>\n",
       "      <td id=\"T_03948_row57_col2\" class=\"data row57 col2\" >0.02</td>\n",
       "    </tr>\n",
       "    <tr>\n",
       "      <td id=\"T_03948_row58_col0\" class=\"data row58 col0\" >PHOTOGRAPHIC RAW FILM AND PAPER</td>\n",
       "      <td id=\"T_03948_row58_col1\" class=\"data row58 col1\" >67.28</td>\n",
       "      <td id=\"T_03948_row58_col2\" class=\"data row58 col2\" >0.02</td>\n",
       "    </tr>\n",
       "    <tr>\n",
       "      <td id=\"T_03948_row59_col0\" class=\"data row59 col0\" >COAL PRODUCTION</td>\n",
       "      <td id=\"T_03948_row59_col1\" class=\"data row59 col1\" >27.74</td>\n",
       "      <td id=\"T_03948_row59_col2\" class=\"data row59 col2\" >0.01</td>\n",
       "    </tr>\n",
       "    <tr>\n",
       "      <td id=\"T_03948_row60_col0\" class=\"data row60 col0\" >MATHEMATICAL,SURVEYING & DRAWING INSTRUMENTS</td>\n",
       "      <td id=\"T_03948_row60_col1\" class=\"data row60 col1\" >7.98</td>\n",
       "      <td id=\"T_03948_row60_col2\" class=\"data row60 col2\" >0.00</td>\n",
       "    </tr>\n",
       "    <tr>\n",
       "      <td id=\"T_03948_row61_col0\" class=\"data row61 col0\" >DEFENCE INDUSTRIES</td>\n",
       "      <td id=\"T_03948_row61_col1\" class=\"data row61 col1\" >5.12</td>\n",
       "      <td id=\"T_03948_row61_col2\" class=\"data row61 col2\" >0.00</td>\n",
       "    </tr>\n",
       "    <tr>\n",
       "      <td id=\"T_03948_row62_col0\" class=\"data row62 col0\" >COIR</td>\n",
       "      <td id=\"T_03948_row62_col1\" class=\"data row62 col1\" >4.06</td>\n",
       "      <td id=\"T_03948_row62_col2\" class=\"data row62 col2\" >0.00</td>\n",
       "    </tr>\n",
       "  </tbody>\n",
       "</table>\n"
      ],
      "text/plain": [
       "<pandas.io.formats.style.Styler at 0x1e08125ef10>"
      ]
     },
     "execution_count": 17,
     "metadata": {},
     "output_type": "execute_result"
    }
   ],
   "source": [
    "# Total FDI ectorwise with Percentage their percentage of Total FDI\n",
    "\n",
    "TotalFDI_Sectorwise= TotalFDI_calculation(dfp_copy1, 0) # For sectorwise sum of FDI we pass axis variable = 0\n",
    "TotalFDI_Sectorwise = TotalFDI_Sectorwise.sort_values(by='Total FDI', ascending = False) \n",
    "TotalFDI_Sectorwise =  TotalFDI_Sectorwise.style.hide_index() # used styler to hide the index\n",
    "TotalFDI_Sectorwise.set_precision(2)"
   ]
  },
  {
   "cell_type": "markdown",
   "id": "abb5f637",
   "metadata": {},
   "source": [
    " Total FDI Sectorwise and their percentage to overall FDI inflow"
   ]
  },
  {
   "cell_type": "markdown",
   "id": "b48468ed",
   "metadata": {},
   "source": [
    "# Analyzing the Best and Worst Performing Sectors"
   ]
  },
  {
   "cell_type": "markdown",
   "id": "7c8cb366",
   "metadata": {},
   "source": [
    "   #### Top 5 sectors which are the most invested in"
   ]
  },
  {
   "cell_type": "code",
   "execution_count": 18,
   "id": "d816cda2",
   "metadata": {
    "scrolled": true
   },
   "outputs": [
    {
     "name": "stderr",
     "output_type": "stream",
     "text": [
      "C:\\Users\\ACER\\AppData\\Local\\Temp\\ipykernel_5220\\102557517.py:5: FutureWarning: this method is deprecated in favour of `Styler.hide(axis='index')`\n",
      "  top_sectors =top_sectors.style.hide_index()\n",
      "C:\\Users\\ACER\\AppData\\Local\\Temp\\ipykernel_5220\\102557517.py:6: FutureWarning: this method is deprecated in favour of `Styler.format(precision=..)`\n",
      "  top_sectors.set_precision(2)\n"
     ]
    },
    {
     "data": {
      "text/html": [
       "<style type=\"text/css\">\n",
       "</style>\n",
       "<table id=\"T_ca848\">\n",
       "  <thead>\n",
       "    <tr>\n",
       "      <th id=\"T_ca848_level0_col0\" class=\"col_heading level0 col0\" >Sector</th>\n",
       "      <th id=\"T_ca848_level0_col1\" class=\"col_heading level0 col1\" >Total FDI</th>\n",
       "      <th id=\"T_ca848_level0_col2\" class=\"col_heading level0 col2\" >%of Total FDI</th>\n",
       "    </tr>\n",
       "  </thead>\n",
       "  <tbody>\n",
       "    <tr>\n",
       "      <td id=\"T_ca848_row0_col0\" class=\"data row0 col0\" >SERVICES SECTOR</td>\n",
       "      <td id=\"T_ca848_row0_col1\" class=\"data row0 col1\" >59476.49</td>\n",
       "      <td id=\"T_ca848_row0_col2\" class=\"data row0 col2\" >17.92</td>\n",
       "    </tr>\n",
       "    <tr>\n",
       "      <td id=\"T_ca848_row1_col0\" class=\"data row1 col0\" >COMPUTER SOFTWARE & HARDWARE</td>\n",
       "      <td id=\"T_ca848_row1_col1\" class=\"data row1 col1\" >24669.49</td>\n",
       "      <td id=\"T_ca848_row1_col2\" class=\"data row1 col2\" >7.43</td>\n",
       "    </tr>\n",
       "    <tr>\n",
       "      <td id=\"T_ca848_row2_col0\" class=\"data row2 col0\" >CONSTRUCTION DEVELOPMENT</td>\n",
       "      <td id=\"T_ca848_row2_col1\" class=\"data row2 col1\" >24293.09</td>\n",
       "      <td id=\"T_ca848_row2_col2\" class=\"data row2 col2\" >7.32</td>\n",
       "    </tr>\n",
       "    <tr>\n",
       "      <td id=\"T_ca848_row3_col0\" class=\"data row3 col0\" >TELECOMMUNICATIONS</td>\n",
       "      <td id=\"T_ca848_row3_col1\" class=\"data row3 col1\" >23946.01</td>\n",
       "      <td id=\"T_ca848_row3_col2\" class=\"data row3 col2\" >7.21</td>\n",
       "    </tr>\n",
       "    <tr>\n",
       "      <td id=\"T_ca848_row4_col0\" class=\"data row4 col0\" >AUTOMOBILE INDUSTRY</td>\n",
       "      <td id=\"T_ca848_row4_col1\" class=\"data row4 col1\" >16673.92</td>\n",
       "      <td id=\"T_ca848_row4_col2\" class=\"data row4 col2\" >5.02</td>\n",
       "    </tr>\n",
       "  </tbody>\n",
       "</table>\n"
      ],
      "text/plain": [
       "<pandas.io.formats.style.Styler at 0x1e08140dd30>"
      ]
     },
     "execution_count": 18,
     "metadata": {},
     "output_type": "execute_result"
    }
   ],
   "source": [
    "# Top 5 Sectors\n",
    "\n",
    "top_sectors = TotalFDI_calculation(dfp_copy1, 0) # called the UDF TotalFDI_calculation\n",
    "top_sectors = top_sectors.nlargest(5,'Total FDI') # used the predefined nlargest() function for top n values\n",
    "top_sectors =top_sectors.style.hide_index()\n",
    "top_sectors.set_precision(2)"
   ]
  },
  {
   "cell_type": "markdown",
   "id": "2ba0f116",
   "metadata": {},
   "source": [
    "#### Bar chart of Top 5 sectors of FDI in India"
   ]
  },
  {
   "cell_type": "code",
   "execution_count": 19,
   "id": "28719d7b",
   "metadata": {},
   "outputs": [],
   "source": [
    "top = dfp_copy1.sum().sort_values(ascending = False)\n",
    "top5 = top.head(5)"
   ]
  },
  {
   "cell_type": "code",
   "execution_count": 20,
   "id": "6f7ab304",
   "metadata": {
    "scrolled": false
   },
   "outputs": [
    {
     "data": {
      "image/png": "[encoded data removed]",
      "text/plain": [
       "<Figure size 864x432 with 1 Axes>"
      ]
     },
     "metadata": {
      "needs_background": "light"
     },
     "output_type": "display_data"
    }
   ],
   "source": [
    "plt.figure(figsize=(12,6))\n",
    "plt.bar(top5.index,top5.values,width = 0.4)\n",
    "addlabels(top5.index, top5.values) \n",
    "plt.xlabel(\"Sectors\")\n",
    "plt.ylabel(\"Amount in Million USD\")\n",
    "plt.title(\"Top 5 Sectors of FDI in India\")\n",
    "plt.xticks(rotation=75)\n",
    "plt.show()"
   ]
  },
  {
   "cell_type": "markdown",
   "id": "8c4465d9",
   "metadata": {},
   "source": [
    "* From the above Chart, we can understand that Service Sector Managed to Attract the highest FDI of  \n",
    "  $59476.49 Million which was greater than any other Sector with a share of 17.65% of total FDI inflows.\n",
    "* We can say that these top 5 sectors collectively contributed to attracting 44.9 % of total FDI \n",
    "  among all other sectors."
   ]
  },
  {
   "cell_type": "markdown",
   "id": "1e2cadca",
   "metadata": {},
   "source": [
    "#### Bottom 5 Sectors of FDI"
   ]
  },
  {
   "cell_type": "code",
   "execution_count": 21,
   "id": "046829ed",
   "metadata": {},
   "outputs": [
    {
     "name": "stderr",
     "output_type": "stream",
     "text": [
      "C:\\Users\\ACER\\AppData\\Local\\Temp\\ipykernel_5220\\2550620129.py:5: FutureWarning: this method is deprecated in favour of `Styler.hide(axis='index')`\n",
      "  bottom_sectors = bottom_sectors.style.hide_index()\n",
      "C:\\Users\\ACER\\AppData\\Local\\Temp\\ipykernel_5220\\2550620129.py:6: FutureWarning: this method is deprecated in favour of `Styler.format(precision=..)`\n",
      "  bottom_sectors.set_precision(2)\n"
     ]
    },
    {
     "data": {
      "text/html": [
       "<style type=\"text/css\">\n",
       "</style>\n",
       "<table id=\"T_7a6b1\">\n",
       "  <thead>\n",
       "    <tr>\n",
       "      <th id=\"T_7a6b1_level0_col0\" class=\"col_heading level0 col0\" >Sector</th>\n",
       "      <th id=\"T_7a6b1_level0_col1\" class=\"col_heading level0 col1\" >Total FDI</th>\n",
       "      <th id=\"T_7a6b1_level0_col2\" class=\"col_heading level0 col2\" >%of Total FDI</th>\n",
       "    </tr>\n",
       "  </thead>\n",
       "  <tbody>\n",
       "    <tr>\n",
       "      <td id=\"T_7a6b1_row0_col0\" class=\"data row0 col0\" >COIR</td>\n",
       "      <td id=\"T_7a6b1_row0_col1\" class=\"data row0 col1\" >4.06</td>\n",
       "      <td id=\"T_7a6b1_row0_col2\" class=\"data row0 col2\" >0.00</td>\n",
       "    </tr>\n",
       "    <tr>\n",
       "      <td id=\"T_7a6b1_row1_col0\" class=\"data row1 col0\" >DEFENCE INDUSTRIES</td>\n",
       "      <td id=\"T_7a6b1_row1_col1\" class=\"data row1 col1\" >5.12</td>\n",
       "      <td id=\"T_7a6b1_row1_col2\" class=\"data row1 col2\" >0.00</td>\n",
       "    </tr>\n",
       "    <tr>\n",
       "      <td id=\"T_7a6b1_row2_col0\" class=\"data row2 col0\" >MATHEMATICAL,SURVEYING & DRAWING INSTRUMENTS</td>\n",
       "      <td id=\"T_7a6b1_row2_col1\" class=\"data row2 col1\" >7.98</td>\n",
       "      <td id=\"T_7a6b1_row2_col2\" class=\"data row2 col2\" >0.00</td>\n",
       "    </tr>\n",
       "    <tr>\n",
       "      <td id=\"T_7a6b1_row3_col0\" class=\"data row3 col0\" >COAL PRODUCTION</td>\n",
       "      <td id=\"T_7a6b1_row3_col1\" class=\"data row3 col1\" >27.74</td>\n",
       "      <td id=\"T_7a6b1_row3_col2\" class=\"data row3 col2\" >0.01</td>\n",
       "    </tr>\n",
       "    <tr>\n",
       "      <td id=\"T_7a6b1_row4_col0\" class=\"data row4 col0\" >PHOTOGRAPHIC RAW FILM AND PAPER</td>\n",
       "      <td id=\"T_7a6b1_row4_col1\" class=\"data row4 col1\" >67.28</td>\n",
       "      <td id=\"T_7a6b1_row4_col2\" class=\"data row4 col2\" >0.02</td>\n",
       "    </tr>\n",
       "  </tbody>\n",
       "</table>\n"
      ],
      "text/plain": [
       "<pandas.io.formats.style.Styler at 0x1e0813e1b80>"
      ]
     },
     "execution_count": 21,
     "metadata": {},
     "output_type": "execute_result"
    }
   ],
   "source": [
    "# Bottom 5 Sectors\n",
    "\n",
    "bottom_sectors = TotalFDI_calculation(dfp_copy1, 0) # called the UDF TotalFDI_calculation\n",
    "bottom_sectors = bottom_sectors.nsmallest(5,'Total FDI') # used the predefined nsmallest() function for top n values\n",
    "bottom_sectors = bottom_sectors.style.hide_index()\n",
    "bottom_sectors.set_precision(2)"
   ]
  },
  {
   "cell_type": "markdown",
   "id": "59447375",
   "metadata": {},
   "source": [
    "#### Bar chart for bottom 5 sectors"
   ]
  },
  {
   "cell_type": "code",
   "execution_count": 22,
   "id": "3e5029f0",
   "metadata": {},
   "outputs": [],
   "source": [
    "bottom = dfp_copy1.sum().sort_values(ascending = True)\n",
    "bottom5 = bottom.head(5)"
   ]
  },
  {
   "cell_type": "code",
   "execution_count": 23,
   "id": "df1d44e4",
   "metadata": {},
   "outputs": [
    {
     "data": {
      "image/png": "[encoded data removed]",
      "text/plain": [
       "<Figure size 864x432 with 1 Axes>"
      ]
     },
     "metadata": {
      "needs_background": "light"
     },
     "output_type": "display_data"
    }
   ],
   "source": [
    "plt.figure(figsize=(12,6))\n",
    "plt.bar(bottom5.index,bottom5.values,width = 0.4)\n",
    "\n",
    "addlabels(bottom5.index,bottom5.values) \n",
    "plt.xlabel(\"Sectors\")\n",
    "plt.ylabel(\"Amount in Million USD\")\n",
    "plt.title(\"Bottom 5 Sectors of FDI in India\")\n",
    "plt.xticks(rotation=75)\n",
    "plt.show()\n"
   ]
  },
  {
   "cell_type": "markdown",
   "id": "673e0bdf",
   "metadata": {},
   "source": [
    "#### Top 5 Sectors in FDI India over the years (from 2000-2017)"
   ]
  },
  {
   "cell_type": "code",
   "execution_count": 24,
   "id": "3b96336e",
   "metadata": {},
   "outputs": [],
   "source": [
    "df_filter=data.filter(items=['SERVICES SECTOR', 'COMPUTER SOFTWARE & HARDWARE',\n",
    "       'CONSTRUCTION DEVELOPMENT', 'TELECOMMUNICATIONS',\n",
    "       'AUTOMOBILE INDUSTRY'])"
   ]
  },
  {
   "cell_type": "code",
   "execution_count": 25,
   "id": "8d952c3e",
   "metadata": {
    "scrolled": false
   },
   "outputs": [
    {
     "data": {
      "text/plain": [
       "<matplotlib.legend.Legend at 0x1e0817c82e0>"
      ]
     },
     "execution_count": 25,
     "metadata": {},
     "output_type": "execute_result"
    },
    {
     "data": {
      "image/png": "[encoded data removed]",
      "text/plain": [
       "<Figure size 1080x288 with 1 Axes>"
      ]
     },
     "metadata": {
      "needs_background": "light"
     },
     "output_type": "display_data"
    }
   ],
   "source": [
    "plt.figure(figsize=(15,4))\n",
    "plt.plot(df_filter)\n",
    "plt.title('Top 5 Sectors in FDI over the years')\n",
    "plt.xlabel('Year')\n",
    "plt.ylabel('Amount in million USD')\n",
    "plt.legend(['SERVICES SECTOR ', 'COMPUTER SOFTWARE & HARDWARE',\n",
    "            'CONSTRUCTION DEVELOPMENT', 'TELECOMMUNICATIONS',\n",
    "            'AUTOMOBILE INDUSTRY'])\n",
    "  "
   ]
  },
  {
   "cell_type": "code",
   "execution_count": 26,
   "id": "49a6efdd",
   "metadata": {
    "scrolled": true
   },
   "outputs": [
    {
     "data": {
      "text/plain": [
       "<matplotlib.legend.Legend at 0x1e0818620a0>"
      ]
     },
     "execution_count": 26,
     "metadata": {},
     "output_type": "execute_result"
    },
    {
     "data": {
      "text/plain": [
       "<Figure size 1080x648 with 0 Axes>"
      ]
     },
     "metadata": {},
     "output_type": "display_data"
    },
    {
     "data": {
      "image/png": "[encoded data removed]",
      "text/plain": [
       "<Figure size 1080x648 with 1 Axes>"
      ]
     },
     "metadata": {
      "needs_background": "light"
     },
     "output_type": "display_data"
    }
   ],
   "source": [
    "plt.figure(figsize=(15,9))\n",
    "df_filter.plot(kind=\"bar\",figsize=(15,9))\n",
    "plt.title('Top 5 Sectors in FDI over the years')\n",
    "plt.xlabel('Year')\n",
    "plt.ylabel('Amount in million USD')\n",
    "plt.legend(['SERVICES SECTOR ', 'COMPUTER SOFTWARE & HARDWARE',\n",
    "            'CONSTRUCTION DEVELOPMENT', 'TELECOMMUNICATIONS',\n",
    "            'AUTOMOBILE INDUSTRY'])\n",
    "\n",
    "  "
   ]
  },
  {
   "cell_type": "markdown",
   "id": "d4e64e05",
   "metadata": {},
   "source": [
    " * These are the top 5 sectors which have received the most foreign investments in 2000-2017 years. \n",
    " * It can be seen that most of these sectors have an 100%+ increment in investments. \n",
    " * Few have remained stagnant while some industries like Construction Development has gone down."
   ]
  },
  {
   "cell_type": "markdown",
   "id": "f0d1ae55",
   "metadata": {},
   "source": [
    "# Analyzing the trend of FDI and its impact on Indian GDP"
   ]
  },
  {
   "cell_type": "markdown",
   "id": "c235c16b",
   "metadata": {},
   "source": [
    "Load the file containing the GDP information from 2001 to 2017"
   ]
  },
  {
   "cell_type": "code",
   "execution_count": 27,
   "id": "f57ee62c",
   "metadata": {},
   "outputs": [],
   "source": [
    "dfGDP = pd.read_csv('D:/Full_SatckDataAnalytics_Notes/FSDA_Internship_Project/GDP_CSV.csv', header = 0, index_col = 0)"
   ]
  },
  {
   "cell_type": "code",
   "execution_count": 28,
   "id": "dff8281e",
   "metadata": {
    "scrolled": false
   },
   "outputs": [
    {
     "data": {
      "text/html": [
       "<div>\n",
       "<style scoped>\n",
       "    .dataframe tbody tr th:only-of-type {\n",
       "        vertical-align: middle;\n",
       "    }\n",
       "\n",
       "    .dataframe tbody tr th {\n",
       "        vertical-align: top;\n",
       "    }\n",
       "\n",
       "    .dataframe thead th {\n",
       "        text-align: right;\n",
       "    }\n",
       "</style>\n",
       "<table border=\"1\" class=\"dataframe\">\n",
       "  <thead>\n",
       "    <tr style=\"text-align: right;\">\n",
       "      <th></th>\n",
       "      <th>GDP</th>\n",
       "    </tr>\n",
       "    <tr>\n",
       "      <th>date</th>\n",
       "      <th></th>\n",
       "    </tr>\n",
       "  </thead>\n",
       "  <tbody>\n",
       "    <tr>\n",
       "      <th>12/31/2001</th>\n",
       "      <td>485441.01</td>\n",
       "    </tr>\n",
       "    <tr>\n",
       "      <th>12/31/2002</th>\n",
       "      <td>514937.95</td>\n",
       "    </tr>\n",
       "    <tr>\n",
       "      <th>12/31/2003</th>\n",
       "      <td>607699.29</td>\n",
       "    </tr>\n",
       "    <tr>\n",
       "      <th>12/31/2004</th>\n",
       "      <td>709148.51</td>\n",
       "    </tr>\n",
       "    <tr>\n",
       "      <th>12/31/2005</th>\n",
       "      <td>820381.60</td>\n",
       "    </tr>\n",
       "  </tbody>\n",
       "</table>\n",
       "</div>"
      ],
      "text/plain": [
       "                  GDP\n",
       "date                 \n",
       "12/31/2001  485441.01\n",
       "12/31/2002  514937.95\n",
       "12/31/2003  607699.29\n",
       "12/31/2004  709148.51\n",
       "12/31/2005  820381.60"
      ]
     },
     "execution_count": 28,
     "metadata": {},
     "output_type": "execute_result"
    }
   ],
   "source": [
    "dfGDP.head()"
   ]
  },
  {
   "cell_type": "code",
   "execution_count": 29,
   "id": "18191e31",
   "metadata": {},
   "outputs": [
    {
     "data": {
      "text/html": [
       "<div>\n",
       "<style scoped>\n",
       "    .dataframe tbody tr th:only-of-type {\n",
       "        vertical-align: middle;\n",
       "    }\n",
       "\n",
       "    .dataframe tbody tr th {\n",
       "        vertical-align: top;\n",
       "    }\n",
       "\n",
       "    .dataframe thead th {\n",
       "        text-align: right;\n",
       "    }\n",
       "</style>\n",
       "<table border=\"1\" class=\"dataframe\">\n",
       "  <thead>\n",
       "    <tr style=\"text-align: right;\">\n",
       "      <th></th>\n",
       "      <th>GDP</th>\n",
       "    </tr>\n",
       "  </thead>\n",
       "  <tbody>\n",
       "    <tr>\n",
       "      <th>count</th>\n",
       "      <td>1.700000e+01</td>\n",
       "    </tr>\n",
       "    <tr>\n",
       "      <th>mean</th>\n",
       "      <td>1.418082e+06</td>\n",
       "    </tr>\n",
       "    <tr>\n",
       "      <th>std</th>\n",
       "      <td>6.736425e+05</td>\n",
       "    </tr>\n",
       "    <tr>\n",
       "      <th>min</th>\n",
       "      <td>4.854410e+05</td>\n",
       "    </tr>\n",
       "    <tr>\n",
       "      <th>25%</th>\n",
       "      <td>8.203816e+05</td>\n",
       "    </tr>\n",
       "    <tr>\n",
       "      <th>50%</th>\n",
       "      <td>1.341887e+06</td>\n",
       "    </tr>\n",
       "    <tr>\n",
       "      <th>75%</th>\n",
       "      <td>1.856722e+06</td>\n",
       "    </tr>\n",
       "    <tr>\n",
       "      <th>max</th>\n",
       "      <td>2.651473e+06</td>\n",
       "    </tr>\n",
       "  </tbody>\n",
       "</table>\n",
       "</div>"
      ],
      "text/plain": [
       "                GDP\n",
       "count  1.700000e+01\n",
       "mean   1.418082e+06\n",
       "std    6.736425e+05\n",
       "min    4.854410e+05\n",
       "25%    8.203816e+05\n",
       "50%    1.341887e+06\n",
       "75%    1.856722e+06\n",
       "max    2.651473e+06"
      ]
     },
     "execution_count": 29,
     "metadata": {},
     "output_type": "execute_result"
    }
   ],
   "source": [
    "dfGDP.describe()"
   ]
  },
  {
   "cell_type": "markdown",
   "id": "679dc340",
   "metadata": {},
   "source": [
    "#### Transforming the GDP dataset"
   ]
  },
  {
   "cell_type": "code",
   "execution_count": 30,
   "id": "49a42f12",
   "metadata": {
    "scrolled": true
   },
   "outputs": [
    {
     "data": {
      "text/plain": [
       "Index(['12/31/2001', '12/31/2002', '12/31/2003', '12/31/2004', '12/31/2005',\n",
       "       '12/31/2006', '12/31/2007', '12/31/2008', '12/31/2009', '12/31/2010',\n",
       "       '12/31/2011', '12/31/2012', '12/31/2013', '12/31/2014', '12/31/2015',\n",
       "       '12/31/2016', '12/31/2017'],\n",
       "      dtype='object', name='date')"
      ]
     },
     "execution_count": 30,
     "metadata": {},
     "output_type": "execute_result"
    }
   ],
   "source": [
    "dfGDP.index"
   ]
  },
  {
   "cell_type": "code",
   "execution_count": 31,
   "id": "aa8b7992",
   "metadata": {},
   "outputs": [],
   "source": [
    "dfGDP.index= [x[0] for x in dfp.index.str.split('/')]"
   ]
  },
  {
   "cell_type": "code",
   "execution_count": 32,
   "id": "a0f12f82",
   "metadata": {
    "scrolled": true
   },
   "outputs": [
    {
     "data": {
      "text/plain": [
       "Index(['2001', '2002', '2003', '2004', '2005', '2006', '2007', '2008', '2009',\n",
       "       '2010', '2011', '2012', '2013', '2014', '2015', '2016', '2017'],\n",
       "      dtype='object')"
      ]
     },
     "execution_count": 32,
     "metadata": {},
     "output_type": "execute_result"
    }
   ],
   "source": [
    "dfGDP.index"
   ]
  },
  {
   "cell_type": "code",
   "execution_count": 33,
   "id": "bc252530",
   "metadata": {
    "scrolled": true
   },
   "outputs": [
    {
     "data": {
      "text/html": [
       "<div>\n",
       "<style scoped>\n",
       "    .dataframe tbody tr th:only-of-type {\n",
       "        vertical-align: middle;\n",
       "    }\n",
       "\n",
       "    .dataframe tbody tr th {\n",
       "        vertical-align: top;\n",
       "    }\n",
       "\n",
       "    .dataframe thead th {\n",
       "        text-align: right;\n",
       "    }\n",
       "</style>\n",
       "<table border=\"1\" class=\"dataframe\">\n",
       "  <thead>\n",
       "    <tr style=\"text-align: right;\">\n",
       "      <th></th>\n",
       "      <th>GDP</th>\n",
       "    </tr>\n",
       "  </thead>\n",
       "  <tbody>\n",
       "    <tr>\n",
       "      <th>2001</th>\n",
       "      <td>485441.01</td>\n",
       "    </tr>\n",
       "    <tr>\n",
       "      <th>2002</th>\n",
       "      <td>514937.95</td>\n",
       "    </tr>\n",
       "    <tr>\n",
       "      <th>2003</th>\n",
       "      <td>607699.29</td>\n",
       "    </tr>\n",
       "    <tr>\n",
       "      <th>2004</th>\n",
       "      <td>709148.51</td>\n",
       "    </tr>\n",
       "    <tr>\n",
       "      <th>2005</th>\n",
       "      <td>820381.60</td>\n",
       "    </tr>\n",
       "  </tbody>\n",
       "</table>\n",
       "</div>"
      ],
      "text/plain": [
       "            GDP\n",
       "2001  485441.01\n",
       "2002  514937.95\n",
       "2003  607699.29\n",
       "2004  709148.51\n",
       "2005  820381.60"
      ]
     },
     "execution_count": 33,
     "metadata": {},
     "output_type": "execute_result"
    }
   ],
   "source": [
    "dfGDP.head()"
   ]
  },
  {
   "cell_type": "code",
   "execution_count": 34,
   "id": "e1985a15",
   "metadata": {},
   "outputs": [],
   "source": [
    "dfp_Total = TotalFDI_Yearwise"
   ]
  },
  {
   "cell_type": "code",
   "execution_count": 35,
   "id": "1fccf3df",
   "metadata": {},
   "outputs": [
    {
     "data": {
      "text/plain": [
       "array([ 2378.71,  4027.69,  2704.32,  2187.85,  3218.69,  5539.75,\n",
       "       12491.76, 24575.4 , 31395.96, 25834.38, 21383.07, 35120.78,\n",
       "       22423.59, 24299.32, 30930.47, 40000.99, 43478.26])"
      ]
     },
     "execution_count": 35,
     "metadata": {},
     "output_type": "execute_result"
    }
   ],
   "source": [
    "dfp_Total.values # Total FDI values yearwise"
   ]
  },
  {
   "cell_type": "code",
   "execution_count": 36,
   "id": "28c8e1ca",
   "metadata": {
    "scrolled": false
   },
   "outputs": [
    {
     "data": {
      "text/plain": [
       "array([[ 485441.01],\n",
       "       [ 514937.95],\n",
       "       [ 607699.29],\n",
       "       [ 709148.51],\n",
       "       [ 820381.6 ],\n",
       "       [ 940259.89],\n",
       "       [1216735.44],\n",
       "       [1198895.58],\n",
       "       [1341886.6 ],\n",
       "       [1675615.34],\n",
       "       [1823049.93],\n",
       "       [1827637.86],\n",
       "       [1856722.12],\n",
       "       [2039127.45],\n",
       "       [2103587.81],\n",
       "       [2294797.98],\n",
       "       [2651472.95]])"
      ]
     },
     "execution_count": 36,
     "metadata": {},
     "output_type": "execute_result"
    }
   ],
   "source": [
    "dfGDP.values # GDP yearwise"
   ]
  },
  {
   "cell_type": "markdown",
   "id": "ed9906fa",
   "metadata": {},
   "source": [
    "We converted the FDI Total inflows(For all the sectors) and GDP values into numpy array\n",
    "And reshape the GDP array to match the dimensions of the both."
   ]
  },
  {
   "cell_type": "code",
   "execution_count": 37,
   "id": "99996591",
   "metadata": {},
   "outputs": [],
   "source": [
    "GDP = np.array(dfGDP.values)\n",
    "FDI = np.array(dfp_Total.values)\n",
    "GDP = GDP.reshape(17)"
   ]
  },
  {
   "cell_type": "code",
   "execution_count": 38,
   "id": "f5c24b93",
   "metadata": {
    "scrolled": true
   },
   "outputs": [
    {
     "data": {
      "text/plain": [
       "array([ 485441.01,  514937.95,  607699.29,  709148.51,  820381.6 ,\n",
       "        940259.89, 1216735.44, 1198895.58, 1341886.6 , 1675615.34,\n",
       "       1823049.93, 1827637.86, 1856722.12, 2039127.45, 2103587.81,\n",
       "       2294797.98, 2651472.95])"
      ]
     },
     "execution_count": 38,
     "metadata": {},
     "output_type": "execute_result"
    }
   ],
   "source": [
    "GDP"
   ]
  },
  {
   "cell_type": "code",
   "execution_count": 39,
   "id": "febd716d",
   "metadata": {
    "scrolled": false
   },
   "outputs": [
    {
     "data": {
      "text/plain": [
       "array([ 2378.71,  4027.69,  2704.32,  2187.85,  3218.69,  5539.75,\n",
       "       12491.76, 24575.4 , 31395.96, 25834.38, 21383.07, 35120.78,\n",
       "       22423.59, 24299.32, 30930.47, 40000.99, 43478.26])"
      ]
     },
     "execution_count": 39,
     "metadata": {},
     "output_type": "execute_result"
    }
   ],
   "source": [
    "FDI"
   ]
  },
  {
   "cell_type": "markdown",
   "id": "1f7b97d0",
   "metadata": {},
   "source": [
    "### Checking the correlation between FDI and GDP"
   ]
  },
  {
   "cell_type": "markdown",
   "id": "753fbfbe",
   "metadata": {},
   "source": [
    "* Foreign Direct Investments help in boosting the growth of Indian economy. India has witnessed a growth in \n",
    "  the flow of Foreign Direct investment.\n",
    "* The objective of this study is to analyse the trend of FDI in India and to analyse the impact of FDI on \n",
    "  Indian GDP during 2000 to 2017."
   ]
  },
  {
   "cell_type": "code",
   "execution_count": 40,
   "id": "20591245",
   "metadata": {},
   "outputs": [],
   "source": [
    "corr = np.corrcoef(FDI,GDP)"
   ]
  },
  {
   "cell_type": "code",
   "execution_count": 41,
   "id": "4a6cb112",
   "metadata": {
    "scrolled": true
   },
   "outputs": [
    {
     "data": {
      "text/plain": [
       "array([[1.        , 0.91374527],\n",
       "       [0.91374527, 1.        ]])"
      ]
     },
     "execution_count": 41,
     "metadata": {},
     "output_type": "execute_result"
    }
   ],
   "source": [
    "corr"
   ]
  },
  {
   "cell_type": "markdown",
   "id": "ad384cda",
   "metadata": {},
   "source": [
    "#### FDI and GDP Scatterplot"
   ]
  },
  {
   "cell_type": "code",
   "execution_count": 42,
   "id": "44ec02a3",
   "metadata": {
    "scrolled": true
   },
   "outputs": [
    {
     "data": {
      "image/png": "[encoded data removed]",
      "text/plain": [
       "<Figure size 432x288 with 1 Axes>"
      ]
     },
     "metadata": {
      "needs_background": "light"
     },
     "output_type": "display_data"
    }
   ],
   "source": [
    "plt.scatter(x=FDI, y=GDP)\n",
    "plt.ylabel('GDP')\n",
    "plt.xlabel('FDI INFLOW')\n",
    "plt.title('Correlation between FDI and GDP')\n",
    "plt.show()"
   ]
  },
  {
   "cell_type": "markdown",
   "id": "22418497",
   "metadata": {},
   "source": [
    "#### Correlation Heatmap between FDI and GDP"
   ]
  },
  {
   "cell_type": "code",
   "execution_count": 43,
   "id": "9bcb527d",
   "metadata": {
    "scrolled": true
   },
   "outputs": [
    {
     "data": {
      "text/plain": [
       "[Text(0.5, 15.0, 'FDI INFLOW'), Text(15.0, 0.5, 'GDP')]"
      ]
     },
     "execution_count": 43,
     "metadata": {},
     "output_type": "execute_result"
    },
    {
     "data": {
      "image/png": "[encoded data removed]",
      "text/plain": [
       "<Figure size 288x288 with 2 Axes>"
      ]
     },
     "metadata": {
      "needs_background": "light"
     },
     "output_type": "display_data"
    }
   ],
   "source": [
    "plt.figure(figsize= (4,4))\n",
    "plt.title('Correlation Heatmap', fontdict={'fontsize':12}, pad=12);\n",
    "s = sns.heatmap(corr, annot= True, annot_kws= {'size' :9 } )\n",
    "s.set(xlabel='FDI INFLOW', ylabel='GDP')"
   ]
  },
  {
   "cell_type": "markdown",
   "id": "36f37c23",
   "metadata": {},
   "source": [
    "* The above heat map shows that FDI and GDP has strong relationship. \n",
    "* From this we can say that there is a very high correlation between the FDI inflows and GDP of India."
   ]
  },
  {
   "cell_type": "code",
   "execution_count": null,
   "id": "4cafd134",
   "metadata": {},
   "outputs": [],
   "source": []
  },
  {
   "cell_type": "markdown",
   "id": "7a900097",
   "metadata": {},
   "source": [
    "# Conclusion"
   ]
  },
  {
   "cell_type": "markdown",
   "id": "f26158e3",
   "metadata": {},
   "source": [
    "* It is found that FDI Inflows in India show a positive trend over the period ( 2000 to 2017 ) under study.\n",
    "\n",
    "\n",
    "* While studying the sectorial perspective, it is found that the Service sector tops in attracting the highest FDI inflows, \n",
    "  followed by the Computer Software & Hardware, and Construction Development sector.\n",
    "\n",
    "\n",
    "* Coir, Defence Industries, Mathematical, Surveying & Drawing Instruments, Coal Production, and Photographic Raw Film & \n",
    "  Paper are the worst-performing sectors that failed to attract considerable foreign inflows in the last 17 \n",
    "  years(2000 to 2017).\n",
    "\n",
    "\n",
    "* The global financial crisis (2008) impacted GDP growth and FDI flows worldwide and India was not an exception. \n",
    "\n",
    "\n",
    "* Because of the high inflation and other macroeconomic issues, India witnessed a drop in FDI flows from 2012-13. \n",
    "\n",
    "\n",
    "* In 2014, the Government of India launched the ‘Make in India’ initiative to facilitate investment, foster innovation, \n",
    "  and build best-in-class manufacturing infrastructure. The reform made a positive foreign investment climate in India \n",
    "  and helped in increasing growth in FDI inflows.\n",
    "\n",
    "\n",
    "* Correlation Analysis result indicates that the FDI inflow generally has a positive impact on the Economic Growth/ GDP \n",
    "  of India."
   ]
  }
 ],
 "metadata": {
  "kernelspec": {
   "display_name": "Python 3 (ipykernel)",
   "language": "python",
   "name": "python3"
  },
  "language_info": {
   "codemirror_mode": {
    "name": "ipython",
    "version": 3
   },
   "file_extension": ".py",
   "mimetype": "text/x-python",
   "name": "python",
   "nbconvert_exporter": "python",
   "pygments_lexer": "ipython3",
   "version": "3.9.12"
  }
 },
 "nbformat": 4,
 "nbformat_minor": 5
}
